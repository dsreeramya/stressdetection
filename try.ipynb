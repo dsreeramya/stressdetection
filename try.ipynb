{
  "nbformat": 4,
  "nbformat_minor": 0,
  "metadata": {
    "colab": {
      "provenance": [],
      "include_colab_link": true
    },
    "kernelspec": {
      "name": "python3",
      "display_name": "Python 3"
    },
    "language_info": {
      "name": "python"
    }
  },
  "cells": [
    {
      "cell_type": "markdown",
      "metadata": {
        "id": "view-in-github",
        "colab_type": "text"
      },
      "source": [
        "<a href=\"https://colab.research.google.com/github/dsreeramya/stressdetection/blob/main/try.ipynb\" target=\"_parent\"><img src=\"https://colab.research.google.com/assets/colab-badge.svg\" alt=\"Open In Colab\"/></a>"
      ]
    },
    {
      "cell_type": "code",
      "execution_count": null,
      "metadata": {
        "colab": {
          "base_uri": "https://localhost:8080/"
        },
        "id": "Zt_PZfO4WAxz",
        "outputId": "632fb9a2-e50f-4008-8c07-bc4eb6458c6f"
      },
      "outputs": [
        {
          "output_type": "stream",
          "name": "stdout",
          "text": [
            "Mounted at /content/drive\n"
          ]
        }
      ],
      "source": [
        "from google.colab import drive\n",
        "drive.mount('/content/drive')"
      ]
    },
    {
      "cell_type": "code",
      "source": [
        "import os\n",
        "import sys\n",
        "import pickle\n",
        "import numpy as np\n",
        "from sklearn.model_selection import train_test_split\n",
        "# np.set_printoptions(threshold=1000)\n",
        "# with open('/content/drive/MyDrive/datasets/WESAD/S10/S10.pkl','rb') as file:\n",
        "#   data=pickle.load(file,encoding='latin1')\n",
        "# label=np.arange(3545100)\n",
        "# for i in range (0,3545100):\n",
        "#   label[i]=data['label'][i]\n",
        "# print(label[2542100:2544100])\n",
        "\n",
        "#, 1 = baseline, 2 = stress, 3 = amusement\n",
        "SUBJECTS = [2,3,4,5,6,7,8,9,10,11,13,14,15,16,17]\n",
        "BASELINE_DATA = []\n",
        "AMUSEMENT_DATA = []\n",
        "STRESS_DATA = []\n",
        "\n",
        "BASELINE = 1\n",
        "STRESS = 2\n",
        "AMUSEMENT=3\n",
        "\n",
        "RAW_SENSOR_VALUES = ['ACC','ECG','EDA','EMG','Resp','Temp']\n",
        "path=\"/content/drive/MyDrive/datasets/WESAD/\"\n",
        "\n",
        "for subject in SUBJECTS:\n",
        "  pathname=path+'S'+str(subject)+'/'+'S'+str(subject)+'.pkl'\n",
        "  with open(pathname,'rb') as file:\n",
        "    data=pickle.load(file,encoding='latin1')\n",
        "    baseline_indices=np.nonzero(data['label']==BASELINE)[0] #indices of baseline values\n",
        "    #print(baseline_indices)\n",
        "    stress_indices=np.nonzero(data['label']==STRESS)[0] #indices of stress values\n",
        "    amusement_indices=np.nonzero(data['label']==AMUSEMENT)[0] #indices of amusement values\n",
        "    base=dict()\n",
        "    stress=dict()\n",
        "    amusement=dict()\n",
        "    \n",
        "    for value in RAW_SENSOR_VALUES:\n",
        "      base[value]=data['signal']['chest'][value][baseline_indices]\n",
        "      stress[value]=data['signal']['chest'][value][stress_indices]\n",
        "      amusement[value]=data['signal']['chest'][value][amusement_indices]\n",
        "    BASELINE_DATA.append(base)\n",
        "    STRESS_DATA.append(stress)\n",
        "    AMUSEMENT_DATA.append(amusement)"
      ],
      "metadata": {
        "id": "-dygVgxGWYPd"
      },
      "execution_count": null,
      "outputs": []
    },
    {
      "cell_type": "code",
      "source": [
        "def features_extraction(data,subjects=SUBJECTS):\n",
        "  FEATURES={'accx':[],'accy':[],'accz':[],'ecg':[],'eda':[],'emg':[],'resp':[],'temp':[]}\n",
        "  for index in range(0,np.shape(data)[0]):\n",
        "    #extract acc values\n",
        "    values=data[index]['ACC']\n",
        "    accx=values[0:99999,0]\n",
        "    accy=values[0:99999,1]\n",
        "    accz=values[0:99999,2]\n",
        "    FEATURES['accx'].extend(accx)\n",
        "    FEATURES['accy'].extend(accy)\n",
        "    FEATURES['accz'].extend(accz)\n",
        "\n",
        "    #extract ecg values\n",
        "    values=data[index]['ECG'] \n",
        "    ecg=values[:99999,0] #to reduce the originally stored 2d array to a 1d array as it had one col only\n",
        "    #print(type(ecg))\n",
        "    #print(np.shape(ecg))\n",
        "    #print(ecg)\n",
        "    FEATURES['ecg'].extend(ecg)\n",
        "\n",
        "    #extract values of eda\n",
        "    values=data[index]['EDA'] #replace 3 with index\n",
        "    eda=values[:99999,0] #to reduce the originally stored 2d array to a 1d array as it had one col only\n",
        "    # print(type(eda))\n",
        "    # print(np.shape(eda))\n",
        "    # print(eda)\n",
        "    FEATURES['eda'].extend(eda) \n",
        "\n",
        "    #extract values of emg\n",
        "    values=data[index]['EMG']\n",
        "    emg=values[:99999,0] #to reduce the originally stored 2d array to a 1d array as it had one col only\n",
        "    # print(type(emg))\n",
        "    # print(np.shape(emg))\n",
        "    # print(emg)\n",
        "    FEATURES['emg'].extend(emg)\n",
        "\n",
        "    #extract values of resp\n",
        "    values=data[index]['Resp'] #replace 3 with index\n",
        "    resp=values[:99999,0] #to reduce the originally stored 2d array to a 1d array as it had one col only\n",
        "    # print(type(resp))\n",
        "    # print(np.shape(resp))\n",
        "    # print(resp)\n",
        "    FEATURES['resp'].extend(resp)\n",
        "\n",
        "    #extract values of temp\n",
        "    values=data[index]['Temp'] #replace 3 with index\n",
        "    temp=values[:99999,0] #to reduce the originally stored 2d array to a 1d array as it had one col only\n",
        "    # print(type(temp))\n",
        "    # print(np.shape(temp))\n",
        "    # print(temp)\n",
        "    FEATURES['temp'].extend(temp)\n",
        "\n",
        "  return FEATURES\n",
        "\n",
        "BASELINE_FEATURES=features_extraction(BASELINE_DATA)\n",
        "STRESS_FEATURES=features_extraction(STRESS_DATA)\n",
        "AMUSEMENT_FEATURES=features_extraction(AMUSEMENT_DATA)"
      ],
      "metadata": {
        "id": "H7kwI5C7YqxY"
      },
      "execution_count": null,
      "outputs": []
    },
    {
      "cell_type": "code",
      "source": [
        "#Splitting data \n",
        "X1=[]\n",
        "X2=[]\n",
        "X3=[]\n",
        "\n",
        "#appending baseline features \n",
        "for i in range(0,len(BASELINE_FEATURES['accx'])):\n",
        "  X1.append([BASELINE_FEATURES['accx'][i],BASELINE_FEATURES['accy'][i],BASELINE_FEATURES['accz'][i],BASELINE_FEATURES['ecg'][i],BASELINE_FEATURES['eda'][i],BASELINE_FEATURES['emg'][i],BASELINE_FEATURES['resp'][i],BASELINE_FEATURES['temp'][i]])\n",
        "#appending stress features\n",
        "for i in range(0,len(STRESS_FEATURES['accx'])):\n",
        "  X2.append([STRESS_FEATURES['accx'][i],STRESS_FEATURES['accy'][i],STRESS_FEATURES['accz'][i],STRESS_FEATURES['ecg'][i],STRESS_FEATURES['eda'][i],STRESS_FEATURES['emg'][i],STRESS_FEATURES['resp'][i],STRESS_FEATURES['temp'][i]])\n",
        "#appending amusement features\n",
        "for i in range(0,len(AMUSEMENT_FEATURES['accx'])):\n",
        "  X3.append([AMUSEMENT_FEATURES['accx'][i],AMUSEMENT_FEATURES['accy'][i],AMUSEMENT_FEATURES['accz'][i],AMUSEMENT_FEATURES['ecg'][i],AMUSEMENT_FEATURES['eda'][i],AMUSEMENT_FEATURES['emg'][i],AMUSEMENT_FEATURES['resp'][i],AMUSEMENT_FEATURES['temp'][i]])\n",
        "\n",
        "#initializing y:0-base,1-stress,2-amusement \n",
        "Y1=[0]*len(X1) #baseline\n",
        "Y2=[1]*len(X2) #stress\n",
        "Y3=[2]*len(X3) #amusement\n",
        "\n",
        "#concatenating all the input data\n",
        "X=np.concatenate((X1,X2,X3),axis=0)\n",
        "#concatenating all output labels\n",
        "Y=np.concatenate((Y1,Y2,Y3),axis=0)\n",
        "\n",
        "#split data into test and train\n",
        "X_train,X_test,Y_train,Y_test=train_test_split(X,Y,test_size=0.2)#80% training 20% testing\n",
        "print(X_test[0])\n",
        "print(Y_test[0])\n",
        "print(X_test[2])\n",
        "print(Y_test[2])\n",
        "print(X_test[4])\n",
        "print(Y_test[4])"
      ],
      "metadata": {
        "colab": {
          "base_uri": "https://localhost:8080/"
        },
        "id": "6QQZ5SwxX7wr",
        "outputId": "669f27be-6209-4481-b96d-176e4e103e43"
      },
      "execution_count": null,
      "outputs": [
        {
          "output_type": "stream",
          "name": "stdout",
          "text": [
            "[ 7.12800026e-01  3.02000046e-02 -6.15800023e-01  6.50024414e-02\n",
            "  9.06372070e-01 -9.01794434e-03  1.06811523e-02  3.44331360e+01]\n",
            "2\n",
            "[ 8.76000047e-01  5.73999882e-02 -2.50400007e-01 -5.17730713e-02\n",
            "  6.37016296e+00 -1.02081299e-02 -1.67846680e-01  3.38657837e+01]\n",
            "0\n",
            "[ 8.88399959e-01  1.29400015e-01  1.25599980e-01  1.05422974e-01\n",
            "  7.08656311e+00 -3.11279297e-03  1.10626221e+00  3.21295166e+01]\n",
            "1\n"
          ]
        }
      ]
    },
    {
      "cell_type": "code",
      "source": [],
      "metadata": {
        "id": "mYwP_t-uZQdF"
      },
      "execution_count": null,
      "outputs": []
    },
    {
      "cell_type": "code",
      "source": [
        "import tensorflow as tf\n",
        "from tensorflow import keras\n",
        "from tensorflow.keras.layers import *\n",
        "from tensorflow.keras.models import Sequential\n",
        "from tensorflow.keras.optimizers import *\n",
        "from tensorflow.keras.metrics import sparse_categorical_crossentropy\n",
        "\n",
        "\n",
        "model=Sequential([\n",
        "    Dense(units=8, input_shape=(8,),activation='relu'),\n",
        "    Dense(units=5,activation='relu'),\n",
        "    Dense(units=5,activation='relu'),\n",
        "    Dense(units=3,activation='softmax')\n",
        "])\n",
        "model.compile(optimizer='adam',loss='sparse_categorical_crossentropy',metrics=['accuracy'])\n",
        "history=model.fit(X_train, Y_train, validation_split=0.2, epochs=20)\n",
        "#test_loss, test_acc = model.evaluate(X_test, Y_test)\n",
        "#print('Tested Acc:',test_acc)"
      ],
      "metadata": {
        "id": "xiALPVS8NHmt",
        "colab": {
          "base_uri": "https://localhost:8080/"
        },
        "outputId": "49124aac-3931-4c87-fe81-7e3ff3140fbe"
      },
      "execution_count": null,
      "outputs": [
        {
          "output_type": "stream",
          "name": "stdout",
          "text": [
            "Epoch 1/20\n",
            "90000/90000 [==============================] - 212s 2ms/step - loss: 0.7739 - accuracy: 0.6349 - val_loss: 0.6131 - val_accuracy: 0.6981\n",
            "Epoch 2/20\n",
            "90000/90000 [==============================] - 201s 2ms/step - loss: 0.4962 - accuracy: 0.8038 - val_loss: 0.3862 - val_accuracy: 0.8595\n",
            "Epoch 3/20\n",
            "90000/90000 [==============================] - 204s 2ms/step - loss: 0.2917 - accuracy: 0.9161 - val_loss: 0.2443 - val_accuracy: 0.9401\n",
            "Epoch 4/20\n",
            "90000/90000 [==============================] - 209s 2ms/step - loss: 0.2306 - accuracy: 0.9411 - val_loss: 0.2041 - val_accuracy: 0.9493\n",
            "Epoch 5/20\n",
            "90000/90000 [==============================] - 207s 2ms/step - loss: 0.2125 - accuracy: 0.9457 - val_loss: 0.2090 - val_accuracy: 0.9445\n",
            "Epoch 6/20\n",
            "90000/90000 [==============================] - 207s 2ms/step - loss: 0.2044 - accuracy: 0.9481 - val_loss: 0.1818 - val_accuracy: 0.9569\n",
            "Epoch 7/20\n",
            "90000/90000 [==============================] - 204s 2ms/step - loss: 0.2002 - accuracy: 0.9496 - val_loss: 0.1870 - val_accuracy: 0.9564\n",
            "Epoch 8/20\n",
            "90000/90000 [==============================] - 214s 2ms/step - loss: 0.1973 - accuracy: 0.9507 - val_loss: 0.1667 - val_accuracy: 0.9626\n",
            "Epoch 9/20\n",
            "90000/90000 [==============================] - 201s 2ms/step - loss: 0.1915 - accuracy: 0.9518 - val_loss: 0.1669 - val_accuracy: 0.9614\n",
            "Epoch 10/20\n",
            "90000/90000 [==============================] - 227s 3ms/step - loss: 0.1843 - accuracy: 0.9528 - val_loss: 0.1743 - val_accuracy: 0.9597\n",
            "Epoch 11/20\n",
            "90000/90000 [==============================] - 224s 2ms/step - loss: 0.1804 - accuracy: 0.9536 - val_loss: 0.1849 - val_accuracy: 0.9540\n",
            "Epoch 12/20\n",
            "90000/90000 [==============================] - 226s 3ms/step - loss: 0.1770 - accuracy: 0.9546 - val_loss: 0.1629 - val_accuracy: 0.9609\n",
            "Epoch 13/20\n",
            "90000/90000 [==============================] - 212s 2ms/step - loss: 0.1730 - accuracy: 0.9556 - val_loss: 0.1577 - val_accuracy: 0.9608\n",
            "Epoch 14/20\n",
            "90000/90000 [==============================] - 210s 2ms/step - loss: 0.1620 - accuracy: 0.9584 - val_loss: 0.1475 - val_accuracy: 0.9625\n",
            "Epoch 15/20\n",
            "90000/90000 [==============================] - 214s 2ms/step - loss: 0.1559 - accuracy: 0.9596 - val_loss: 0.1563 - val_accuracy: 0.9603\n",
            "Epoch 16/20\n",
            "90000/90000 [==============================] - 213s 2ms/step - loss: 0.1486 - accuracy: 0.9607 - val_loss: 0.1419 - val_accuracy: 0.9650\n",
            "Epoch 17/20\n",
            "90000/90000 [==============================] - 203s 2ms/step - loss: 0.1439 - accuracy: 0.9620 - val_loss: 0.1646 - val_accuracy: 0.9518\n",
            "Epoch 18/20\n",
            "90000/90000 [==============================] - 202s 2ms/step - loss: 0.1407 - accuracy: 0.9630 - val_loss: 0.1712 - val_accuracy: 0.9593\n",
            "Epoch 19/20\n",
            "90000/90000 [==============================] - 213s 2ms/step - loss: 0.1390 - accuracy: 0.9634 - val_loss: 0.1284 - val_accuracy: 0.9700\n",
            "Epoch 20/20\n",
            "90000/90000 [==============================] - 203s 2ms/step - loss: 0.1361 - accuracy: 0.9642 - val_loss: 0.1321 - val_accuracy: 0.9652\n"
          ]
        }
      ]
    },
    {
      "cell_type": "code",
      "source": [
        "import keras\n",
        "from matplotlib import pyplot as plt\n",
        "#history = model1.fit(train_x, train_y,validation_split = 0.1, epochs=50, batch_size=4)\n",
        "plt.plot(history.history['accuracy'])\n",
        "plt.plot(history.history['val_accuracy'])\n",
        "plt.title('model accuracy')\n",
        "plt.ylabel('accuracy')\n",
        "plt.xlabel('epoch')\n",
        "plt.legend(['train', 'val'], loc='upper left')\n",
        "plt.show()"
      ],
      "metadata": {
        "colab": {
          "base_uri": "https://localhost:8080/",
          "height": 295
        },
        "id": "4wedzNZq5i7m",
        "outputId": "b64bb852-f42c-4e6a-df3b-87899309f793"
      },
      "execution_count": null,
      "outputs": [
        {
          "output_type": "display_data",
          "data": {
            "text/plain": [
              "<Figure size 432x288 with 1 Axes>"
            ],
            "image/png": "[encoded data removed]"
          },
          "metadata": {
            "needs_background": "light"
          }
        }
      ]
    },
    {
      "cell_type": "code",
      "source": [
        "import keras\n",
        "from matplotlib import pyplot as plt\n",
        "#history = model1.fit(train_x, train_y,validation_split = 0.1, epochs=50, batch_size=4)\n",
        "plt.plot(history.history['loss'])\n",
        "plt.plot(history.history['val_loss'])\n",
        "plt.title('model loss')\n",
        "plt.ylabel('loss')\n",
        "plt.xlabel('epoch')\n",
        "plt.legend(['train', 'val'], loc='upper left')\n",
        "plt.show()"
      ],
      "metadata": {
        "colab": {
          "base_uri": "https://localhost:8080/",
          "height": 295
        },
        "id": "Qk8idNJf5yge",
        "outputId": "e4b74188-e838-41a5-c9cf-b2b6572f7118"
      },
      "execution_count": null,
      "outputs": [
        {
          "output_type": "display_data",
          "data": {
            "text/plain": [
              "<Figure size 432x288 with 1 Axes>"
            ],
            "image/png": "[encoded data removed]"
          },
          "metadata": {
            "needs_background": "light"
          }
        }
      ]
    },
    {
      "cell_type": "code",
      "source": [
        "import tensorflow as tf\n",
        "from tensorflow import keras\n",
        "import numpy as np\n",
        "X=np.array([[8.76000047e-01,  5.73999882e-02, -2.50400007e-01, -5.17730713e-02, 6.37016296e+00, -1.02081299e-02, -1.67846680e-01,  3.38657837e+01]])\n",
        "result = model.predict(X)\n",
        "y_classes = result.argmax(axis=-1)\n",
        "print(\"Prediction\",y_classes)\n",
        "if y_classes==0:\n",
        "  print(\"Baseline\")\n",
        "elif y_classes==1:\n",
        "  print(\"Stress\")\n",
        "elif y_classes==2:\n",
        "  print(\"Amusement\")\n",
        "print(\"Prediction shape:\",result.shape)"
      ],
      "metadata": {
        "colab": {
          "base_uri": "https://localhost:8080/"
        },
        "id": "vDN6kfEn6-L6",
        "outputId": "9ccdaeff-6595-459c-9dc9-2385f3185cac"
      },
      "execution_count": null,
      "outputs": [
        {
          "output_type": "stream",
          "name": "stdout",
          "text": [
            "1/1 [==============================] - 0s 21ms/step\n",
            "Prediction [0]\n",
            "Baseline\n",
            "Prediction shape: (1, 3)\n"
          ]
        }
      ]
    },
    {
      "cell_type": "code",
      "source": [
        "import tensorflow as tf\n",
        "from tensorflow import keras\n",
        "import numpy as np\n",
        "X=np.array([[8.88399959e-01,  1.29400015e-01,  1.25599980e-01,  1.05422974e-01, 7.08656311e+00, -3.11279297e-03,  1.10626221e+00,  3.21295166e+01]])\n",
        "result = model.predict(X)\n",
        "y_classes = result.argmax(axis=-1)\n",
        "print(\"Prediction\",y_classes)\n",
        "if y_classes==0:\n",
        "  print(\"Baseline\")\n",
        "elif y_classes==1:\n",
        "  print(\"Stress\")\n",
        "elif y_classes==2:\n",
        "  print(\"Amusement\")\n",
        "print(\"Prediction shape:\",result.shape)"
      ],
      "metadata": {
        "colab": {
          "base_uri": "https://localhost:8080/"
        },
        "id": "tmVTR-8lCYie",
        "outputId": "bc7191fc-8507-48b5-cf30-0f721f5b07b1"
      },
      "execution_count": null,
      "outputs": [
        {
          "output_type": "stream",
          "name": "stdout",
          "text": [
            "1/1 [==============================] - 0s 22ms/step\n",
            "Prediction [1]\n",
            "Stress\n",
            "Prediction shape: (1, 3)\n"
          ]
        }
      ]
    },
    {
      "cell_type": "code",
      "source": [
        "import tensorflow as tf\n",
        "from tensorflow import keras\n",
        "import numpy as np\n",
        "X=np.array([[7.12800026e-01,  3.02000046e-02, -6.15800023e-01,  6.50024414e-02, 9.06372070e-01, -9.01794434e-0,  1.06811523e-02,  3.44331360e+01 ]])\n",
        "result = model.predict(X)\n",
        "y_classes = result.argmax(axis=-1)\n",
        "print(\"Prediction\",y_classes)\n",
        "if y_classes==0:\n",
        "  print(\"Baseline\")\n",
        "elif y_classes==1:\n",
        "  print(\"Stress\")\n",
        "elif y_classes==2:\n",
        "  print(\"Amusement\")\n",
        "print(\"Prediction shape:\",result.shape)"
      ],
      "metadata": {
        "colab": {
          "base_uri": "https://localhost:8080/"
        },
        "id": "AiWpG7WnEDrn",
        "outputId": "871cfe6b-1012-4a80-b845-6a1ccf572690"
      },
      "execution_count": null,
      "outputs": [
        {
          "output_type": "stream",
          "name": "stdout",
          "text": [
            "1/1 [==============================] - 0s 19ms/step\n",
            "Prediction [2]\n",
            "Amusement\n",
            "Prediction shape: (1, 3)\n"
          ]
        }
      ]
    },
    {
      "cell_type": "code",
      "source": [
        "class_names=[['accx','accy','accz','ecg','eda','emg','resp','temp']]\n",
        "class estimator:\n",
        "  _estimator_type = ''\n",
        "  classes_=[]\n",
        "  def __init__(self, model, classes):\n",
        "    self.model = model\n",
        "    self._estimator_type = 'classifier'\n",
        "    self.classes_ = classes\n",
        "  def predict(self, X):\n",
        "    y_prob= self.model.predict(X_test)\n",
        "    y_pred = y_prob.argmax(axis=1)\n",
        "    return y_pred\n",
        "\n",
        "classifier = estimator(model, class_names)"
      ],
      "metadata": {
        "id": "wAKgcD9jEzYQ"
      },
      "execution_count": null,
      "outputs": []
    },
    {
      "cell_type": "code",
      "source": [
        "from sklearn.metrics import plot_confusion_matrix\n",
        "plot_confusion_matrix(estimator=classifier, X=X_test, y_true=Y_test)"
      ],
      "metadata": {
        "colab": {
          "base_uri": "https://localhost:8080/",
          "height": 368
        },
        "id": "SAHdGcC4Fq1H",
        "outputId": "18c72ba2-3032-41fe-bc04-cd6e056ef9c2"
      },
      "execution_count": null,
      "outputs": [
        {
          "output_type": "stream",
          "name": "stdout",
          "text": [
            "   34/28125 [..............................] - ETA: 42s  "
          ]
        },
        {
          "output_type": "stream",
          "name": "stderr",
          "text": [
            "/usr/local/lib/python3.7/dist-packages/sklearn/utils/deprecation.py:87: FutureWarning: Function plot_confusion_matrix is deprecated; Function `plot_confusion_matrix` is deprecated in 1.0 and will be removed in 1.2. Use one of the class methods: ConfusionMatrixDisplay.from_predictions or ConfusionMatrixDisplay.from_estimator.\n",
            "  warnings.warn(msg, category=FutureWarning)\n"
          ]
        },
        {
          "output_type": "stream",
          "name": "stdout",
          "text": [
            "28125/28125 [==============================] - 42s 2ms/step\n"
          ]
        },
        {
          "output_type": "execute_result",
          "data": {
            "text/plain": [
              "<sklearn.metrics._plot.confusion_matrix.ConfusionMatrixDisplay at 0x7f658fe77b90>"
            ]
          },
          "metadata": {},
          "execution_count": 70
        },
        {
          "output_type": "display_data",
          "data": {
            "text/plain": [
              "<Figure size 432x288 with 2 Axes>"
            ],
            "image/png": "[encoded data removed]"
          },
          "metadata": {
            "needs_background": "light"
          }
        }
      ]
    }
  ]
}